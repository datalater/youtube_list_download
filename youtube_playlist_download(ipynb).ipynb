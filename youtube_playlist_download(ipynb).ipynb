{
 "cells": [
  {
   "cell_type": "code",
   "execution_count": 5,
   "metadata": {
    "collapsed": true
   },
   "outputs": [],
   "source": [
    "import requests\n",
    "import re\n",
    "import csv\n",
    "from bs4 import BeautifulSoup\n",
    "from urllib.parse import urljoin\n",
    "import youtube_dl # pip install --upgrade youtube-dl"
   ]
  },
  {
   "cell_type": "code",
   "execution_count": 18,
   "metadata": {},
   "outputs": [
    {
     "name": "stdout",
     "output_type": "stream",
     "text": [
      "미적분1 개념정리\n"
     ]
    }
   ],
   "source": [
    "list_url = \"https://www.youtube.com/playlist?list=PLXJ3W1lEGK8VD5JJlAqoe5ieJ2XbCzQbo\"\n",
    "youtube_url = \"https://www.youtube.com\"\n",
    "\n",
    "resp = requests.get(list_url).text\n",
    "soup = BeautifulSoup(resp, 'lxml')\n",
    "\n",
    "filename = soup.find('title').string\n",
    "filename = filename.replace(' - YouTube',\"\")\n",
    "print(filename)\n",
    "\n",
    "# for i, tr in enumerate(soup.select('.yt-uix-tile')):\n",
    "#     data_title = tr.get('data-title')\n",
    "#     href = tr.find('a')['href']\n",
    "#     link = urljoin(youtube_url, href)\n",
    "    \n",
    "#     print(data_title, link)"
   ]
  },
  {
   "cell_type": "code",
   "execution_count": null,
   "metadata": {
    "collapsed": true
   },
   "outputs": [],
   "source": []
  }
 ],
 "metadata": {
  "kernelspec": {
   "display_name": "Python 3",
   "language": "python",
   "name": "python3"
  },
  "language_info": {
   "codemirror_mode": {
    "name": "ipython",
    "version": 3
   },
   "file_extension": ".py",
   "mimetype": "text/x-python",
   "name": "python",
   "nbconvert_exporter": "python",
   "pygments_lexer": "ipython3",
   "version": "3.5.3"
  }
 },
 "nbformat": 4,
 "nbformat_minor": 2
}
