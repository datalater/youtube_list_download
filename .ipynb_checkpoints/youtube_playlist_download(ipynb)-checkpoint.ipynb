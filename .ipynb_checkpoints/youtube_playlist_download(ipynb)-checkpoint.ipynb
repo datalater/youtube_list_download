{
 "cells": [
  {
   "cell_type": "code",
   "execution_count": 1,
   "metadata": {
    "collapsed": true
   },
   "outputs": [],
   "source": [
    "import requests\n",
    "import re\n",
    "from bs4 import BeautifulSoup\n",
    "import youtube_dl # pip install --upgrade youtube-dl"
   ]
  },
  {
   "cell_type": "code",
   "execution_count": null,
   "metadata": {
    "collapsed": true
   },
   "outputs": [],
   "source": [
    "# https://www.youtube.com/playlist?list=PLXJ3W1lEGK8VD5JJlAqoe5ieJ2XbCzQbo\n",
    "\n",
    "playlist_url = \"https://www.youtube.com/playlist?list=PLXJ3W1lEGK8VD5JJlAqoe5ieJ2XbCzQbo\"\n",
    "\n",
    "resp = requests.get(playlist_url).text\n",
    "soup = BeautifulSoup(resp, 'lxml')"
   ]
  }
 ],
 "metadata": {
  "kernelspec": {
   "display_name": "Python 3",
   "language": "python",
   "name": "python3"
  },
  "language_info": {
   "codemirror_mode": {
    "name": "ipython",
    "version": 3
   },
   "file_extension": ".py",
   "mimetype": "text/x-python",
   "name": "python",
   "nbconvert_exporter": "python",
   "pygments_lexer": "ipython3",
   "version": "3.5.3"
  }
 },
 "nbformat": 4,
 "nbformat_minor": 2
}
