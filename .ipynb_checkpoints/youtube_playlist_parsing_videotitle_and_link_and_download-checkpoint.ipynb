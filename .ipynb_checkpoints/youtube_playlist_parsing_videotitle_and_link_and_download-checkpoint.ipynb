{
 "cells": [
  {
   "cell_type": "code",
   "execution_count": 2,
   "metadata": {
    "collapsed": true
   },
   "outputs": [],
   "source": [
    "import requests\n",
    "import re\n",
    "import csv\n",
    "from bs4 import BeautifulSoup\n",
    "from urllib.parse import urljoin\n",
    "# import youtube_dl # pip install --upgrade youtube-dl"
   ]
  },
  {
   "cell_type": "code",
   "execution_count": 10,
   "metadata": {},
   "outputs": [
    {
     "name": "stdout",
     "output_type": "stream",
     "text": [
      "미적분2 개념정리\n",
      "01 지수함수 & 지수함수의 그래프 https://www.youtube.com/watch?v=FBAgxbQ931Y&list=PLXJ3W1lEGK8UnnHCIwU41kLGkk6SFrCWu&index=1\n",
      "02 지수함수 그래프의 평행 & 대칭 이동 https://www.youtube.com/watch?v=YAHNW9VPdDM&list=PLXJ3W1lEGK8UnnHCIwU41kLGkk6SFrCWu&index=2\n",
      "03 지수함수의 최대 최소 https://www.youtube.com/watch?v=7yI1rPFGRCU&list=PLXJ3W1lEGK8UnnHCIwU41kLGkk6SFrCWu&index=3\n",
      "04 지수방정식 https://www.youtube.com/watch?v=qs0OT9EVK0E&list=PLXJ3W1lEGK8UnnHCIwU41kLGkk6SFrCWu&index=4\n",
      "05 지수부등식 https://www.youtube.com/watch?v=TroH1ZZ9Iws&list=PLXJ3W1lEGK8UnnHCIwU41kLGkk6SFrCWu&index=5\n",
      "06 로그함수의 그래프 https://www.youtube.com/watch?v=I_H04p9HHcI&list=PLXJ3W1lEGK8UnnHCIwU41kLGkk6SFrCWu&index=6\n",
      "07 로그함수 그래프의 평행&대칭 이동 https://www.youtube.com/watch?v=ZcyJEO2OtxE&list=PLXJ3W1lEGK8UnnHCIwU41kLGkk6SFrCWu&index=7\n",
      "08 로그함수의 최대와 최소 https://www.youtube.com/watch?v=L8AI__Nw6BM&list=PLXJ3W1lEGK8UnnHCIwU41kLGkk6SFrCWu&index=8\n",
      "09 로그방정식 https://www.youtube.com/watch?v=hB7nwp3iNP4&list=PLXJ3W1lEGK8UnnHCIwU41kLGkk6SFrCWu&index=9\n",
      "10 로그부등식 https://www.youtube.com/watch?v=mkrCnkIgGqw&list=PLXJ3W1lEGK8UnnHCIwU41kLGkk6SFrCWu&index=10\n",
      "11 지수함수와 로그함수의 극한 https://www.youtube.com/watch?v=aoWZv0_1fnY&list=PLXJ3W1lEGK8UnnHCIwU41kLGkk6SFrCWu&index=11\n",
      "12 자연상수 e 및 자연로그 https://www.youtube.com/watch?v=FtujrQVP-9U&list=PLXJ3W1lEGK8UnnHCIwU41kLGkk6SFrCWu&index=12\n",
      "13 지수함수와 로그함수의 도함수 https://www.youtube.com/watch?v=gzXPqMB8584&list=PLXJ3W1lEGK8UnnHCIwU41kLGkk6SFrCWu&index=13\n",
      "14 일반각 https://www.youtube.com/watch?v=01lLemHITUk&list=PLXJ3W1lEGK8UnnHCIwU41kLGkk6SFrCWu&index=14\n",
      "15 호도법 https://www.youtube.com/watch?v=xJnlI9o9mWc&list=PLXJ3W1lEGK8UnnHCIwU41kLGkk6SFrCWu&index=15\n",
      "16 두 동경의 위치 관계 https://www.youtube.com/watch?v=1HJ7C9XSY14&list=PLXJ3W1lEGK8UnnHCIwU41kLGkk6SFrCWu&index=16\n",
      "17 삼각함수의 정의 https://www.youtube.com/watch?v=W2Qs9soABQY&list=PLXJ3W1lEGK8UnnHCIwU41kLGkk6SFrCWu&index=17\n",
      "18 삼각함수 사이의 관계 https://www.youtube.com/watch?v=ZFXJ2SYzzBQ&list=PLXJ3W1lEGK8UnnHCIwU41kLGkk6SFrCWu&index=18\n",
      "19 삼각함수의 그래프 https://www.youtube.com/watch?v=n8dsNx3GSI8&list=PLXJ3W1lEGK8UnnHCIwU41kLGkk6SFrCWu&index=19\n",
      "20 y=a sin(bx+c)+d https://www.youtube.com/watch?v=VyxrQ7-8QiY&list=PLXJ3W1lEGK8UnnHCIwU41kLGkk6SFrCWu&index=20\n",
      "21 삼각함수 변형 https://www.youtube.com/watch?v=ycD7CDAxMsk&list=PLXJ3W1lEGK8UnnHCIwU41kLGkk6SFrCWu&index=21\n",
      "22 기본적인 삼각방정식과 삼각부등식 https://www.youtube.com/watch?v=dm_jU2p9Mpw&list=PLXJ3W1lEGK8UnnHCIwU41kLGkk6SFrCWu&index=22\n",
      "23 삼각함수 덧셈정리 https://www.youtube.com/watch?v=6HkoM39M7e8&list=PLXJ3W1lEGK8UnnHCIwU41kLGkk6SFrCWu&index=23\n",
      "24 삼각함수의 합성 https://www.youtube.com/watch?v=pMSjRDbSSgs&list=PLXJ3W1lEGK8UnnHCIwU41kLGkk6SFrCWu&index=24\n",
      "25 배각의 공식, 반각의 공식 https://www.youtube.com/watch?v=aaX_lpqjuiU&list=PLXJ3W1lEGK8UnnHCIwU41kLGkk6SFrCWu&index=25\n",
      "26 삼각함수의 극한 https://www.youtube.com/watch?v=Aeo83UtTSOo&list=PLXJ3W1lEGK8UnnHCIwU41kLGkk6SFrCWu&index=26\n",
      "27 사인함수와 코사인 함수의 도함수 https://www.youtube.com/watch?v=pSixu_a7dpw&list=PLXJ3W1lEGK8UnnHCIwU41kLGkk6SFrCWu&index=27\n",
      "28 합성함수의 미분법 https://www.youtube.com/watch?v=LRPPwtMbcrc&list=PLXJ3W1lEGK8UnnHCIwU41kLGkk6SFrCWu&index=28\n",
      "29 y=x^n (n은 실수) 의 도함수 https://www.youtube.com/watch?v=4ASD9KgBnMc&list=PLXJ3W1lEGK8UnnHCIwU41kLGkk6SFrCWu&index=29\n",
      "30 몫의 미분법 https://www.youtube.com/watch?v=z8Bq5TI0GHM&list=PLXJ3W1lEGK8UnnHCIwU41kLGkk6SFrCWu&index=30\n",
      "31 몫의 미분법 적용 https://www.youtube.com/watch?v=TksXYtnZa0Y&list=PLXJ3W1lEGK8UnnHCIwU41kLGkk6SFrCWu&index=31\n",
      "32 역함수의 미분법 https://www.youtube.com/watch?v=VYQw5SdVU0k&list=PLXJ3W1lEGK8UnnHCIwU41kLGkk6SFrCWu&index=32\n",
      "33 이계도함수 https://www.youtube.com/watch?v=Hy_SjASLHK4&list=PLXJ3W1lEGK8UnnHCIwU41kLGkk6SFrCWu&index=33\n",
      "34 접선의 방정식 https://www.youtube.com/watch?v=69fRZ0csJNc&list=PLXJ3W1lEGK8UnnHCIwU41kLGkk6SFrCWu&index=34\n",
      "35 이계도 함수를 이용한 함수의 극대, 극소 판별법 (이과) https://www.youtube.com/watch?v=ec2fc2kdd50&list=PLXJ3W1lEGK8UnnHCIwU41kLGkk6SFrCWu&index=35\n",
      "36 곡선의 오목과 볼록, 변곡점 https://www.youtube.com/watch?v=xvQ_vn7U__w&list=PLXJ3W1lEGK8UnnHCIwU41kLGkk6SFrCWu&index=36\n",
      "37 함수의 그래프 개형 그리기 https://www.youtube.com/watch?v=TxMvI_m4mdo&list=PLXJ3W1lEGK8UnnHCIwU41kLGkk6SFrCWu&index=37\n",
      "38 함수의 최댓값과 최솟값 https://www.youtube.com/watch?v=bw6XlG5hOzk&list=PLXJ3W1lEGK8UnnHCIwU41kLGkk6SFrCWu&index=38\n",
      "39 방정식에의 활용 https://www.youtube.com/watch?v=9hMG6pdeZ5I&list=PLXJ3W1lEGK8UnnHCIwU41kLGkk6SFrCWu&index=39\n",
      "40 부등식에의 활용 https://www.youtube.com/watch?v=1DNRBSnOjlI&list=PLXJ3W1lEGK8UnnHCIwU41kLGkk6SFrCWu&index=40\n",
      "41 부정적분 https://www.youtube.com/watch?v=ImHHo3eWgVY&list=PLXJ3W1lEGK8UnnHCIwU41kLGkk6SFrCWu&index=41\n",
      "42 치환적분 https://www.youtube.com/watch?v=SLnYC7mvyhk&list=PLXJ3W1lEGK8UnnHCIwU41kLGkk6SFrCWu&index=42\n",
      "43 치환적분의 적용 https://www.youtube.com/watch?v=PuRSzJFO0wI&list=PLXJ3W1lEGK8UnnHCIwU41kLGkk6SFrCWu&index=43\n",
      "44 부분적분 https://www.youtube.com/watch?v=oVJm-1M3zH0&list=PLXJ3W1lEGK8UnnHCIwU41kLGkk6SFrCWu&index=44\n",
      "45 치환적분을 이용한 정적분 https://www.youtube.com/watch?v=vKPyKiScg10&list=PLXJ3W1lEGK8UnnHCIwU41kLGkk6SFrCWu&index=45\n",
      "46 부분적분법을 이용한 정적분 https://www.youtube.com/watch?v=xx_uegZHWcE&list=PLXJ3W1lEGK8UnnHCIwU41kLGkk6SFrCWu&index=46\n",
      "47 부피와 적분 - 입체의 부피 https://www.youtube.com/watch?v=ERjMuARcIjo&list=PLXJ3W1lEGK8UnnHCIwU41kLGkk6SFrCWu&index=47\n"
     ]
    }
   ],
   "source": [
    "list_url = \"https://www.youtube.com/playlist?list=PLXJ3W1lEGK8UnnHCIwU41kLGkk6SFrCWu\"\n",
    "youtube_url = \"https://www.youtube.com\"\n",
    "\n",
    "resp = requests.get(list_url).text\n",
    "soup = BeautifulSoup(resp, 'lxml')\n",
    "\n",
    "######################\n",
    "### playlist title ###\n",
    "######################\n",
    "\n",
    "filename = soup.find('title').string\n",
    "filename = filename.replace(' - YouTube',\"\")\n",
    "print(filename)\n",
    "\n",
    "title_dic = {}\n",
    "\n",
    "for i, tr in enumerate(soup.select('.yt-uix-tile')):\n",
    "    data_title = tr.get('data-title')\n",
    "    href = tr.find('a')['href']\n",
    "    link = urljoin(youtube_url, href)\n",
    "    \n",
    "    print(str(i+1).zfill(2),data_title, link)\n",
    "    \n",
    "    new_title = str(i+1).zfill(2) + \"-\" + data_title+\".mp4\"\n",
    "    \n",
    "    #####################################################\n",
    "    ### make csv file for using 4k video downloader   ###\n",
    "    ### download url : https://www.4kdownload.com/ko/ ###\n",
    "    #####################################################\n",
    "    \n",
    "    with open(filename + '.csv', 'a', newline='') as f:\n",
    "        r_writer = csv.writer(f)\n",
    "        r_writer.writerow([link])\n",
    "        \n",
    "    ###############################################################\n",
    "    ### make csv file for file-renaming using Ant Renamer2      ###\n",
    "    ### download url : https://www.fosshub.com/Ant-Renamer.html ###\n",
    "    ###############################################################\n",
    "    \n",
    "    with open(filename + \"-for-renaming\" + '.csv', 'a', newline='') as f:\n",
    "        r_writer = csv.writer(f)\n",
    "        r_writer.writerow([data_title, new_title])\n",
    "        \n",
    "    \n",
    "    ################################################################\n",
    "    ### video download with customized filename using youtube_dl ###\n",
    "    ################################################################\n",
    "    \n",
    "#     ydl_opts = {\n",
    "#     'outtmpl': str(i+1).zfill(2)+\"-\"+data_title+\".mp4\"\n",
    "#     }\n",
    "    \n",
    "#     with youtube_dl.YoutubeDL(ydl_opts) as ydl:\n",
    "#         ydl.download([link])"
   ]
  },
  {
   "cell_type": "code",
   "execution_count": null,
   "metadata": {
    "collapsed": true
   },
   "outputs": [],
   "source": []
  },
  {
   "cell_type": "code",
   "execution_count": null,
   "metadata": {
    "collapsed": true
   },
   "outputs": [],
   "source": []
  },
  {
   "cell_type": "code",
   "execution_count": null,
   "metadata": {
    "collapsed": true
   },
   "outputs": [],
   "source": []
  }
 ],
 "metadata": {
  "kernelspec": {
   "display_name": "Python 3",
   "language": "python",
   "name": "python3"
  },
  "language_info": {
   "codemirror_mode": {
    "name": "ipython",
    "version": 3
   },
   "file_extension": ".py",
   "mimetype": "text/x-python",
   "name": "python",
   "nbconvert_exporter": "python",
   "pygments_lexer": "ipython3",
   "version": "3.5.3"
  }
 },
 "nbformat": 4,
 "nbformat_minor": 2
}
