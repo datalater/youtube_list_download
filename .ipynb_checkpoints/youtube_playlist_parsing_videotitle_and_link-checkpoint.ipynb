{
 "cells": [
  {
   "cell_type": "code",
   "execution_count": 12,
   "metadata": {
    "collapsed": true
   },
   "outputs": [],
   "source": [
    "import requests\n",
    "import re\n",
    "import csv\n",
    "from bs4 import BeautifulSoup\n",
    "from urllib.parse import urljoin"
   ]
  },
  {
   "cell_type": "code",
   "execution_count": 16,
   "metadata": {},
   "outputs": [
    {
     "name": "stdout",
     "output_type": "stream",
     "text": [
      "수열의 수렴과 발산 https://www.youtube.com/watch?v=44jYKHFtGyI&list=PLXJ3W1lEGK8VD5JJlAqoe5ieJ2XbCzQbo&index=1\n",
      "극한값의 계산 (1) https://www.youtube.com/watch?v=C33_HxJmAFA&list=PLXJ3W1lEGK8VD5JJlAqoe5ieJ2XbCzQbo&index=2\n",
      "극한값의 계산 (2) https://www.youtube.com/watch?v=W7F9nszBdZ8&list=PLXJ3W1lEGK8VD5JJlAqoe5ieJ2XbCzQbo&index=3\n",
      "극한값의 계산 (3) https://www.youtube.com/watch?v=_g0eF7Tx1hQ&list=PLXJ3W1lEGK8VD5JJlAqoe5ieJ2XbCzQbo&index=4\n",
      "등비수열의 극한 https://www.youtube.com/watch?v=uulrpDqGFXg&list=PLXJ3W1lEGK8VD5JJlAqoe5ieJ2XbCzQbo&index=5\n",
      "급수와 부분합 https://www.youtube.com/watch?v=F74Spm_zzlQ&list=PLXJ3W1lEGK8VD5JJlAqoe5ieJ2XbCzQbo&index=6\n",
      "급수의 성질 https://www.youtube.com/watch?v=bzEVmH5ca2Y&list=PLXJ3W1lEGK8VD5JJlAqoe5ieJ2XbCzQbo&index=7\n",
      "등비급수 https://www.youtube.com/watch?v=bcAeSj5Y3FY&list=PLXJ3W1lEGK8VD5JJlAqoe5ieJ2XbCzQbo&index=8\n",
      "함수의 수렴과 발산 https://www.youtube.com/watch?v=oPDP98871Uo&list=PLXJ3W1lEGK8VD5JJlAqoe5ieJ2XbCzQbo&index=9\n",
      "함수의 극한값 구하기 (1) https://www.youtube.com/watch?v=XpXDY1P_94U&list=PLXJ3W1lEGK8VD5JJlAqoe5ieJ2XbCzQbo&index=10\n",
      "함수의 극한값 구하기(2) https://www.youtube.com/watch?v=AfmJKzfxQwU&list=PLXJ3W1lEGK8VD5JJlAqoe5ieJ2XbCzQbo&index=11\n",
      "함수의 연속 https://www.youtube.com/watch?v=AHAGvRWMYkE&list=PLXJ3W1lEGK8VD5JJlAqoe5ieJ2XbCzQbo&index=12\n",
      "연속함수의 성질 https://www.youtube.com/watch?v=WVLpzscGa1A&list=PLXJ3W1lEGK8VD5JJlAqoe5ieJ2XbCzQbo&index=13\n",
      "최대 최소의 정리 https://www.youtube.com/watch?v=4jPrco252Y4&list=PLXJ3W1lEGK8VD5JJlAqoe5ieJ2XbCzQbo&index=14\n",
      "사이값 정리 https://www.youtube.com/watch?v=dPbzVw5rgE4&list=PLXJ3W1lEGK8VD5JJlAqoe5ieJ2XbCzQbo&index=15\n",
      "평균변화율과 순간변화율 https://www.youtube.com/watch?v=vOUea0jTr6E&list=PLXJ3W1lEGK8VD5JJlAqoe5ieJ2XbCzQbo&index=16\n",
      "미분계수 https://www.youtube.com/watch?v=UEQmB36j6QQ&list=PLXJ3W1lEGK8VD5JJlAqoe5ieJ2XbCzQbo&index=17\n",
      "도함수 https://www.youtube.com/watch?v=Av12jMmYyg0&list=PLXJ3W1lEGK8VD5JJlAqoe5ieJ2XbCzQbo&index=18\n",
      "곱의 미분법 https://www.youtube.com/watch?v=76H8abfO-pE&list=PLXJ3W1lEGK8VD5JJlAqoe5ieJ2XbCzQbo&index=19\n",
      "미분의 활용 - 접선의 방정식 (1) https://www.youtube.com/watch?v=qmeF-m7C26s&list=PLXJ3W1lEGK8VD5JJlAqoe5ieJ2XbCzQbo&index=20\n",
      "미분의 활용 - 접선의 방정식 (2) https://www.youtube.com/watch?v=26dDKc9cdGY&list=PLXJ3W1lEGK8VD5JJlAqoe5ieJ2XbCzQbo&index=21\n",
      "롤의 정리 https://www.youtube.com/watch?v=deWXHd-ADFE&list=PLXJ3W1lEGK8VD5JJlAqoe5ieJ2XbCzQbo&index=22\n",
      "평균값의 정리 https://www.youtube.com/watch?v=L3g1e5VHk7k&list=PLXJ3W1lEGK8VD5JJlAqoe5ieJ2XbCzQbo&index=23\n",
      "함수의 증가와 감소 https://www.youtube.com/watch?v=mggbAP87KbI&list=PLXJ3W1lEGK8VD5JJlAqoe5ieJ2XbCzQbo&index=24\n",
      "극대와 극소 https://www.youtube.com/watch?v=RaeTTfVNTJo&list=PLXJ3W1lEGK8VD5JJlAqoe5ieJ2XbCzQbo&index=25\n",
      "극대와 극소의 판정 https://www.youtube.com/watch?v=lyfbGOrNO8E&list=PLXJ3W1lEGK8VD5JJlAqoe5ieJ2XbCzQbo&index=26\n",
      "삼차함수 그래프 그리기 https://www.youtube.com/watch?v=MgnjjN26C54&list=PLXJ3W1lEGK8VD5JJlAqoe5ieJ2XbCzQbo&index=27\n",
      "사차함수 그래프 그리기 https://www.youtube.com/watch?v=lV1OFJBCpJQ&list=PLXJ3W1lEGK8VD5JJlAqoe5ieJ2XbCzQbo&index=28\n",
      "최대 최소와 미분 https://www.youtube.com/watch?v=VRtPzo8KRss&list=PLXJ3W1lEGK8VD5JJlAqoe5ieJ2XbCzQbo&index=29\n",
      "방정식과 미분 https://www.youtube.com/watch?v=zwMz2-i9MhY&list=PLXJ3W1lEGK8VD5JJlAqoe5ieJ2XbCzQbo&index=30\n",
      "부등식과 미분 https://www.youtube.com/watch?v=Zs1m8m_5seI&list=PLXJ3W1lEGK8VD5JJlAqoe5ieJ2XbCzQbo&index=31\n",
      "속도, 가속도와 미분 https://www.youtube.com/watch?v=FdSr7Ch9fDI&list=PLXJ3W1lEGK8VD5JJlAqoe5ieJ2XbCzQbo&index=32\n",
      "부정적분 https://www.youtube.com/watch?v=aMQw9xUssqw&list=PLXJ3W1lEGK8VD5JJlAqoe5ieJ2XbCzQbo&index=33\n",
      "부정적분의 계산 https://www.youtube.com/watch?v=-yzmA4GPjCs&list=PLXJ3W1lEGK8VD5JJlAqoe5ieJ2XbCzQbo&index=34\n",
      "구분구적법 https://www.youtube.com/watch?v=03yIQdL0XJo&list=PLXJ3W1lEGK8VD5JJlAqoe5ieJ2XbCzQbo&index=35\n",
      "구분구적법을 이용하여 원뿔의 부피 구하기 https://www.youtube.com/watch?v=IXHDXDh0bzQ&list=PLXJ3W1lEGK8VD5JJlAqoe5ieJ2XbCzQbo&index=36\n",
      "구분구적법을 이용하여 구의 부피 구하기 https://www.youtube.com/watch?v=Ecg1J4XYfmU&list=PLXJ3W1lEGK8VD5JJlAqoe5ieJ2XbCzQbo&index=37\n",
      "정적분의 정의 https://www.youtube.com/watch?v=gzyWKaofiCw&list=PLXJ3W1lEGK8VD5JJlAqoe5ieJ2XbCzQbo&index=38\n",
      "미적분의 기본정리 https://www.youtube.com/watch?v=4FCXlo6ie9Q&list=PLXJ3W1lEGK8VD5JJlAqoe5ieJ2XbCzQbo&index=39\n",
      "정적분의 성질 https://www.youtube.com/watch?v=Q2yyAd_Li14&list=PLXJ3W1lEGK8VD5JJlAqoe5ieJ2XbCzQbo&index=40\n",
      "홀함수, 짝함수와 정적분 https://www.youtube.com/watch?v=v0f-eqtQ--Q&list=PLXJ3W1lEGK8VD5JJlAqoe5ieJ2XbCzQbo&index=41\n",
      "주기함수의 정적분 https://www.youtube.com/watch?v=RQ9Y3s9S4H0&list=PLXJ3W1lEGK8VD5JJlAqoe5ieJ2XbCzQbo&index=42\n",
      "정적분으로 표현된 함수 https://www.youtube.com/watch?v=WVKs-YQ2V90&list=PLXJ3W1lEGK8VD5JJlAqoe5ieJ2XbCzQbo&index=43\n",
      "정적분과 무한급수 https://www.youtube.com/watch?v=jJkpqJ090kI&list=PLXJ3W1lEGK8VD5JJlAqoe5ieJ2XbCzQbo&index=44\n",
      "넓이와 적분 - 곡선과 x축 사이의 넓이 https://www.youtube.com/watch?v=Ove0rJKR8uc&list=PLXJ3W1lEGK8VD5JJlAqoe5ieJ2XbCzQbo&index=45\n",
      "넓이와 적분 - 두 곡선 사이의 넓이 https://www.youtube.com/watch?v=c7ZOUI5JQWg&list=PLXJ3W1lEGK8VD5JJlAqoe5ieJ2XbCzQbo&index=46\n",
      "넓이와 적분 - 곡선과 y 축 사이의 넓이 https://www.youtube.com/watch?v=gT4xaydQW-I&list=PLXJ3W1lEGK8VD5JJlAqoe5ieJ2XbCzQbo&index=47\n",
      "넓이와 적분 - 역함수와 넓이 https://www.youtube.com/watch?v=297TIE-r4UU&list=PLXJ3W1lEGK8VD5JJlAqoe5ieJ2XbCzQbo&index=48\n",
      "속도 거리와 적분 https://www.youtube.com/watch?v=CSQx1IJYdaE&list=PLXJ3W1lEGK8VD5JJlAqoe5ieJ2XbCzQbo&index=49\n"
     ]
    }
   ],
   "source": [
    "list_url = \"https://www.youtube.com/playlist?list=PLXJ3W1lEGK8VD5JJlAqoe5ieJ2XbCzQbo\"\n",
    "youtube_url = \"https://www.youtube.com\"\n",
    "\n",
    "resp = requests.get(list_url).text\n",
    "soup = BeautifulSoup(resp, 'lxml')\n",
    "\n",
    "for tr in soup.select('.yt-uix-tile'):\n",
    "    data_title = tr.get('data-title')\n",
    "    href = tr.find('a')['href']\n",
    "    link = urljoin(youtube_url, href)\n",
    "    \n",
    "    print(data_title, link)\n",
    "    \n",
    "    filename = \"미적분1_개념정리\"\n",
    "    \n",
    "    with open(filename + '.csv', 'a', newline='') as f:\n",
    "        r_writer = csv.writer(f)\n",
    "        r_writer.writerow([link])"
   ]
  },
  {
   "cell_type": "code",
   "execution_count": null,
   "metadata": {
    "collapsed": true
   },
   "outputs": [],
   "source": []
  },
  {
   "cell_type": "code",
   "execution_count": null,
   "metadata": {
    "collapsed": true
   },
   "outputs": [],
   "source": []
  },
  {
   "cell_type": "code",
   "execution_count": null,
   "metadata": {
    "collapsed": true
   },
   "outputs": [],
   "source": []
  }
 ],
 "metadata": {
  "kernelspec": {
   "display_name": "Python 3",
   "language": "python",
   "name": "python3"
  },
  "language_info": {
   "codemirror_mode": {
    "name": "ipython",
    "version": 3
   },
   "file_extension": ".py",
   "mimetype": "text/x-python",
   "name": "python",
   "nbconvert_exporter": "python",
   "pygments_lexer": "ipython3",
   "version": "3.5.3"
  }
 },
 "nbformat": 4,
 "nbformat_minor": 2
}
