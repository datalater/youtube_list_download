{
 "cells": [
  {
   "cell_type": "code",
   "execution_count": 1,
   "metadata": {
    "collapsed": true
   },
   "outputs": [],
   "source": [
    "import requests\n",
    "import re\n",
    "from bs4 import BeautifulSoup"
   ]
  },
  {
   "cell_type": "code",
   "execution_count": 2,
   "metadata": {},
   "outputs": [
    {
     "name": "stdout",
     "output_type": "stream",
     "text": [
      "자연상수 e : 누구냐? 넌?\n",
      "코사인 법칙\n",
      "사인법칙\n",
      "로피탈의 법칙\n",
      "(이과) 홀함수 짝함수의 미분과 적분\n",
      "부분적분 쉽게 하기 (tabular integration)\n",
      "cylindrical shell method (이과)\n"
     ]
    }
   ],
   "source": [
    "list_url = \"https://www.youtube.com/playlist?list=PLXJ3W1lEGK8UPrriX84_jyOVm29fRP9fL\"\n",
    "\n",
    "resp = requests.get(list_url).text\n",
    "soup = BeautifulSoup(resp, 'lxml')\n",
    "\n",
    "for tr in soup.select('.yt-uix-tile'):\n",
    "    data_title = tr.get('data-title')\n",
    "    print(data_title)"
   ]
  },
  {
   "cell_type": "code",
   "execution_count": null,
   "metadata": {
    "collapsed": true
   },
   "outputs": [],
   "source": []
  }
 ],
 "metadata": {
  "kernelspec": {
   "display_name": "Python 3",
   "language": "python",
   "name": "python3"
  },
  "language_info": {
   "codemirror_mode": {
    "name": "ipython",
    "version": 3
   },
   "file_extension": ".py",
   "mimetype": "text/x-python",
   "name": "python",
   "nbconvert_exporter": "python",
   "pygments_lexer": "ipython3",
   "version": "3.5.3"
  }
 },
 "nbformat": 4,
 "nbformat_minor": 2
}
